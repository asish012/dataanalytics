{
 "cells": [
  {
   "cell_type": "markdown",
   "metadata": {},
   "source": [
    "# Customer Segmentation"
   ]
  },
  {
   "cell_type": "markdown",
   "metadata": {},
   "source": [
    "The result of a good segmentation is, identifying the right number of segments with proper balance between treating each customer individually and treating all customers in a same way."
   ]
  },
  {
   "cell_type": "markdown",
   "metadata": {},
   "source": [
    "### There are 4 types of market segmentations\n",
    "\n",
    "1. Demographic (age, gender, income, religion, profession)\n",
    "2. Psychographic (personal traits, hobby, lifestyle)\n",
    "3. Geographic (country, region, city, post-code)\n",
    "4. Behavioral (brand choise, habit: spending, browsing)"
   ]
  },
  {
   "cell_type": "markdown",
   "metadata": {},
   "source": [
    "### Other types of market segmentations:\n",
    "\n",
    "- Technographic\n",
    "- Generational and Life stage\n",
    "- Transactional\n",
    "- Firmographic"
   ]
  },
  {
   "cell_type": "markdown",
   "metadata": {},
   "source": [
    "# Customer Segmentation Methods"
   ]
  },
  {
   "cell_type": "markdown",
   "metadata": {},
   "source": [
    "### Needs/Value segmentation:\n",
    "\n",
    "Needs/Value segmentation involves addressing specific customer needs in order to increase a value variable. Value variables can be, for example, the customer lifetime value, the average shopping cart value, or profitability. Segmentation begins with the attribute that has the greatest influence on the value variable and is then broken down more granularly.\n",
    "\n",
    "Segment prioritization in needs/value segmentation can be based on experience and intuition, but loyalty levels of the customer groups or a scoring according to the RFM model can also be used to determine the customer groups’ values and compare them with each other."
   ]
  },
  {
   "cell_type": "markdown",
   "metadata": {},
   "source": [
    "### RFM Segmentation\n",
    "\n",
    "The RFM model considers three core dimensions of a customer’s buying behavior: Time since last purchase (Recency), purchase frequency (Frequency) and sales (Monetary Value).\n",
    "\n",
    "Until recently, the RFM model has been the gold standard for segmentation. It is increasingly being replaced by predictive models due to limitations, for instance, regarding reactivation campaigns and new customers: RFM scoring only dates back one or two years, meaning that it cannot help in reactivation campaigns for customers that have not purchased for longer than that time. New customers, meanwhile, have not purchased enough to have a clear RFM score. Nevertheless, it remains a valid method for identifying a company’s most valuable customers."
   ]
  },
  {
   "cell_type": "markdown",
   "metadata": {},
   "source": [
    "### Clustering\n",
    "\n",
    "During clustering, unlike during needs/value segmentation, attributes are not grouped with regard to their effect on a specific target variable. Instead, it is performed without a fixed objective as it attempts to recognize patterns in the existing data sets. There are various algorithms that can be used to perform clustering.\n",
    "\n",
    "Once segments have been formed via the clustering method they can be further analyzed and characterized to make them usable for campaigns. Hypotheses can help to better understand the clusters found and define their relevance for further campaign development."
   ]
  },
  {
   "cell_type": "markdown",
   "metadata": {},
   "source": [
    "### Predictive Models\n",
    "\n",
    "Predictive models are mathematical calculations that predict customer behavior. As a rule, they use much more data than the RFM model – for example sociodemographic data, shopping baskets, the channel through which the customer was acquired, and other data can all be taken into account. This allows marketing strategies to be derived and budgets to be used more effectively."
   ]
  },
  {
   "cell_type": "markdown",
   "metadata": {},
   "source": [
    "### CLV as a Scoring Model\n",
    "\n",
    "The CLV is calculated based on the revenue and costs that a customer is expected to generate over the course of their entire customer life cycle. In other words, it is the estimated profit that can be generated with a customer throughout the customer life cycle. The CLV can be used to identify and target a company’s most valuable customers as well as those who are at risk of churn. In other cases, customer value can be increased through targeted campaigns.\n",
    "\n",
    "CLV calculation can take various dimensions into account and the best formula depends strongly on the business model and purpose. Scoring can also weigh different dimensions differently according to specific requirements. Division into corresponding segments can be relative or absolute – a high-value segment can, therefore, contain either the most valuable X percent of customers or customers for whom the CLV exceeds a certain value.\n",
    "\n",
    "Marketing budgets can be specifically planned for valuable customers and used, for example, to make them even more profitable through targeted cross- or up-selling. The CLV can also be used to assign costs and revenues to individual CLM phases and to plan budgets and campaigns accordingly. It is also possible to estimate which customers incentive measures such as vouchers are profitable for and how large these incentives should be. In addition, the CLV also brings advantages to customer acquisition. For example, it is possible to analyze which channels acquire profitable customers and then focus more strongly on these channels. It should be noted that the CLV is not a static value and can change over time."
   ]
  },
  {
   "cell_type": "markdown",
   "metadata": {},
   "source": [
    "### Churn Score\n",
    "\n",
    "The churn score describes how vulnerable a customer is to churn. This can be seen early on through a customer’s shopping baskets and purchase frequency. Ideally, factors that influence the churn score should be observed as soon as the customer relationship begins, so that engagement, product adoption, or loyalty can be worked on early on."
   ]
  },
  {
   "cell_type": "markdown",
   "metadata": {},
   "source": [
    "### Segment-of-One\n",
    "\n",
    "So-called “segment-of-one marketing” is based on automated segmentation and personalization in real-time. As the name suggests, segments-of-one are formed on individual customers’ characteristics or their behaviors. There are in effect two approaches to segmentation at the individual customer level, which can be combined:\n",
    "\n",
    "1. Segments-of-one by behavioral trigger: In these cases, customer behavior triggers a campaign in real-time or after a defined interval. With this rule-based real-time segmentation, channel selection and timing can be adjusted to individual customer preferences.  \n",
    "2. Segments-of-one according to interests: Content is dynamically personalized in this approach, whereby customer interests are identified based on both their purchase history and their viewed pages/products. Examples include certain recommendation methods or onsite personalizations.\n",
    "\n",
    "An example that combines both forms would be a shopping cart abandonment campaign: A customer adds products to the shopping cart but does not complete the purchase. After a defined interval, the customer can be automatically reminded of the shopping basket via the ideal channel, and the message can refer to the shopping cart’s contents. If the customer responds to the reminder, they can even be directed to a personalized landing page.\n",
    "\n",
    "Segment-of-One marketing is the vanishing point for truly customer-centric marketing and customer relationship management. It enables relevant messages to be sent via the right channel at the most appropriate time, thus responding to individual customer needs. The prerequisite for segment-of-one marketing is a comprehensive view of individual customers and a real-time data infrastructure."
   ]
  },
  {
   "cell_type": "markdown",
   "metadata": {},
   "source": [
    "<hr>"
   ]
  },
  {
   "cell_type": "markdown",
   "metadata": {},
   "source": []
  }
 ],
 "metadata": {
  "kernelspec": {
   "display_name": "Python 3",
   "language": "python",
   "name": "python3"
  },
  "language_info": {
   "codemirror_mode": {
    "name": "ipython",
    "version": 3
   },
   "file_extension": ".py",
   "mimetype": "text/x-python",
   "name": "python",
   "nbconvert_exporter": "python",
   "pygments_lexer": "ipython3",
   "version": "3.7.9"
  }
 },
 "nbformat": 4,
 "nbformat_minor": 4
}
