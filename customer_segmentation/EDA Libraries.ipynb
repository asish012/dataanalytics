{
 "cells": [
  {
   "cell_type": "code",
   "execution_count": 3,
   "metadata": {},
   "outputs": [],
   "source": [
    "import numpy as np\n",
    "import pandas as pd\n",
    "import matplotlib.pyplot as plt\n",
    "%matplotlib inline"
   ]
  },
  {
   "cell_type": "code",
   "execution_count": 4,
   "metadata": {},
   "outputs": [],
   "source": [
    "file_name = 'OnlineRetail.csv'\n",
    "# file_name = 'retail_loyalty_rfm.csv'\n",
    "retail_data = pd.read_csv(file_name)\n",
    "retail_data['InvoiceDate'] = pd.to_datetime(retail_data['InvoiceDate'], infer_datetime_format=True)"
   ]
  },
  {
   "cell_type": "markdown",
   "metadata": {},
   "source": [
    "# Profiling with ProfileReport"
   ]
  },
  {
   "cell_type": "code",
   "execution_count": null,
   "metadata": {},
   "outputs": [],
   "source": [
    "# Install the package\n",
    "\n",
    "# !pip install pandas-profiling\n",
    "# !pip install ipywidgets --user"
   ]
  },
  {
   "cell_type": "code",
   "execution_count": null,
   "metadata": {},
   "outputs": [],
   "source": [
    "from pandas_profiling import ProfileReport"
   ]
  },
  {
   "cell_type": "code",
   "execution_count": null,
   "metadata": {},
   "outputs": [],
   "source": [
    "profile = ProfileReport(retail_data, explorative=True)\n",
    "# profile"
   ]
  },
  {
   "cell_type": "code",
   "execution_count": null,
   "metadata": {},
   "outputs": [],
   "source": [
    "profile.to_file(\"ProfileReport.html\")"
   ]
  },
  {
   "cell_type": "markdown",
   "metadata": {},
   "source": [
    "##### Open up the HTML"
   ]
  },
  {
   "cell_type": "markdown",
   "metadata": {},
   "source": [
    "# EDA with DataPrep"
   ]
  },
  {
   "cell_type": "code",
   "execution_count": null,
   "metadata": {},
   "outputs": [],
   "source": [
    "# Install the package\n",
    "\n",
    "# !pip install dataprep"
   ]
  },
  {
   "cell_type": "code",
   "execution_count": null,
   "metadata": {},
   "outputs": [],
   "source": [
    "from dataprep.eda import create_report"
   ]
  },
  {
   "cell_type": "code",
   "execution_count": null,
   "metadata": {
    "scrolled": false
   },
   "outputs": [],
   "source": [
    "report = create_report(retail_data)\n",
    "report.save('DataPrep Report')\n",
    "# report.show_browser()\n",
    "\n",
    "# report"
   ]
  },
  {
   "cell_type": "markdown",
   "metadata": {},
   "source": [
    "# EDA with AutoViz"
   ]
  },
  {
   "cell_type": "code",
   "execution_count": null,
   "metadata": {},
   "outputs": [],
   "source": [
    "# Install the package\n",
    "\n",
    "# !pip install autoviz\n",
    "# !pip install xlrd\n",
    "# !pip install XGBoost"
   ]
  },
  {
   "cell_type": "code",
   "execution_count": null,
   "metadata": {
    "scrolled": true
   },
   "outputs": [],
   "source": [
    "from autoviz.AutoViz_Class import AutoViz_Class\n",
    "AV = AutoViz_Class()\n",
    "df_av = AV.AutoViz(file_name)"
   ]
  },
  {
   "cell_type": "markdown",
   "metadata": {},
   "source": [
    "# EDA with D-Tale"
   ]
  },
  {
   "cell_type": "code",
   "execution_count": null,
   "metadata": {},
   "outputs": [],
   "source": [
    "# Install the package\n",
    "\n",
    "# !pip install dtale --user\n",
    "# !pip uninstall jinja2 -y\n",
    "# !pip install jinja2\n",
    "# !pip show jinja2"
   ]
  },
  {
   "cell_type": "code",
   "execution_count": 5,
   "metadata": {
    "scrolled": true
   },
   "outputs": [],
   "source": [
    "import dtale\n",
    "\n",
    "d = dtale.show(retail_data)"
   ]
  },
  {
   "cell_type": "code",
   "execution_count": 6,
   "metadata": {
    "scrolled": true
   },
   "outputs": [
    {
     "name": "stdout",
     "output_type": "stream",
     "text": [
      "Exception occurred while processing request: can't multiply sequence by non-int of type 'str'\n",
      "Traceback (most recent call last):\n",
      "  File \"/Users/woodpecker/.local/lib/python3.7/site-packages/dtale/views.py\", line 100, in _handle_exceptions\n",
      "    return func(*args, **kwargs)\n",
      "  File \"/Users/woodpecker/.local/lib/python3.7/site-packages/dtale/views.py\", line 1545, in reshape_data\n",
      "    instance = startup(data=builder.reshape(), ignore_duplicate=True)\n",
      "  File \"/Users/woodpecker/.local/lib/python3.7/site-packages/dtale/data_reshapers.py\", line 44, in reshape\n",
      "    return self.builder.reshape(data)\n",
      "  File \"/Users/woodpecker/.local/lib/python3.7/site-packages/dtale/data_reshapers.py\", line 109, in reshape\n",
      "    agg_data = agg_data.aggregate(cols)\n",
      "  File \"/Users/woodpecker/miniconda3/envs/py3/lib/python3.7/site-packages/pandas/core/groupby/generic.py\", line 945, in aggregate\n",
      "    result, how = aggregate(self, func, *args, **kwargs)\n",
      "  File \"/Users/woodpecker/miniconda3/envs/py3/lib/python3.7/site-packages/pandas/core/aggregation.py\", line 582, in aggregate\n",
      "    return agg_dict_like(obj, arg, _axis), True\n",
      "  File \"/Users/woodpecker/miniconda3/envs/py3/lib/python3.7/site-packages/pandas/core/aggregation.py\", line 768, in agg_dict_like\n",
      "    results = {key: obj._gotitem(key, ndim=1).agg(how) for key, how in arg.items()}\n",
      "  File \"/Users/woodpecker/miniconda3/envs/py3/lib/python3.7/site-packages/pandas/core/aggregation.py\", line 768, in <dictcomp>\n",
      "    results = {key: obj._gotitem(key, ndim=1).agg(how) for key, how in arg.items()}\n",
      "  File \"/Users/woodpecker/miniconda3/envs/py3/lib/python3.7/site-packages/pandas/core/groupby/generic.py\", line 247, in aggregate\n",
      "    ret = self._aggregate_multiple_funcs(func)\n",
      "  File \"/Users/woodpecker/miniconda3/envs/py3/lib/python3.7/site-packages/pandas/core/groupby/generic.py\", line 315, in _aggregate_multiple_funcs\n",
      "    results[base.OutputKey(label=name, position=idx)] = obj.aggregate(func)\n",
      "  File \"/Users/woodpecker/miniconda3/envs/py3/lib/python3.7/site-packages/pandas/core/groupby/generic.py\", line 241, in aggregate\n",
      "    return getattr(self, func)(*args, **kwargs)\n",
      "  File \"/Users/woodpecker/miniconda3/envs/py3/lib/python3.7/site-packages/pandas/core/groupby/groupby.py\", line 1663, in prod\n",
      "    numeric_only=numeric_only, min_count=min_count, alias=\"prod\", npfunc=np.prod\n",
      "  File \"/Users/woodpecker/miniconda3/envs/py3/lib/python3.7/site-packages/pandas/core/groupby/groupby.py\", line 1044, in _agg_general\n",
      "    result = self.aggregate(lambda x: npfunc(x, axis=self.axis))\n",
      "  File \"/Users/woodpecker/miniconda3/envs/py3/lib/python3.7/site-packages/pandas/core/groupby/generic.py\", line 259, in aggregate\n",
      "    return self._python_agg_general(func, *args, **kwargs)\n",
      "  File \"/Users/woodpecker/miniconda3/envs/py3/lib/python3.7/site-packages/pandas/core/groupby/groupby.py\", line 1196, in _python_agg_general\n",
      "    return self._python_apply_general(f, self._selected_obj)\n",
      "  File \"/Users/woodpecker/miniconda3/envs/py3/lib/python3.7/site-packages/pandas/core/groupby/groupby.py\", line 928, in _python_apply_general\n",
      "    keys, values, mutated = self.grouper.apply(f, data, self.axis)\n",
      "  File \"/Users/woodpecker/miniconda3/envs/py3/lib/python3.7/site-packages/pandas/core/groupby/ops.py\", line 238, in apply\n",
      "    res = f(group)\n",
      "  File \"/Users/woodpecker/miniconda3/envs/py3/lib/python3.7/site-packages/pandas/core/groupby/groupby.py\", line 1160, in <lambda>\n",
      "    f = lambda x: func(x, *args, **kwargs)\n",
      "  File \"/Users/woodpecker/miniconda3/envs/py3/lib/python3.7/site-packages/pandas/core/groupby/groupby.py\", line 1044, in <lambda>\n",
      "    result = self.aggregate(lambda x: npfunc(x, axis=self.axis))\n",
      "  File \"<__array_function__ internals>\", line 6, in prod\n",
      "  File \"/Users/woodpecker/miniconda3/envs/py3/lib/python3.7/site-packages/numpy/core/fromnumeric.py\", line 3000, in prod\n",
      "    keepdims=keepdims, initial=initial, where=where)\n",
      "  File \"/Users/woodpecker/miniconda3/envs/py3/lib/python3.7/site-packages/numpy/core/fromnumeric.py\", line 85, in _wrapreduction\n",
      "    return reduction(axis=axis, out=out, **passkwargs)\n",
      "  File \"/Users/woodpecker/miniconda3/envs/py3/lib/python3.7/site-packages/pandas/core/generic.py\", line 11099, in prod\n",
      "    self, axis, skipna, level, numeric_only, min_count, **kwargs\n",
      "  File \"/Users/woodpecker/miniconda3/envs/py3/lib/python3.7/site-packages/pandas/core/generic.py\", line 10812, in prod\n",
      "    **kwargs,\n",
      "  File \"/Users/woodpecker/miniconda3/envs/py3/lib/python3.7/site-packages/pandas/core/generic.py\", line 10779, in _min_count_stat_function\n",
      "    min_count=min_count,\n",
      "  File \"/Users/woodpecker/miniconda3/envs/py3/lib/python3.7/site-packages/pandas/core/series.py\", line 4182, in _reduce\n",
      "    return op(delegate, skipna=skipna, **kwds)\n",
      "  File \"/Users/woodpecker/miniconda3/envs/py3/lib/python3.7/site-packages/pandas/core/nanops.py\", line 71, in _f\n",
      "    return f(*args, **kwargs)\n",
      "  File \"/Users/woodpecker/miniconda3/envs/py3/lib/python3.7/site-packages/pandas/core/nanops.py\", line 1292, in nanprod\n",
      "    result = values.prod(axis)\n",
      "  File \"/Users/woodpecker/miniconda3/envs/py3/lib/python3.7/site-packages/numpy/core/_methods.py\", line 51, in _prod\n",
      "    return umr_prod(a, axis, dtype, out, keepdims, initial, where)\n",
      "TypeError: can't multiply sequence by non-int of type 'str'\n"
     ]
    },
    {
     "name": "stderr",
     "output_type": "stream",
     "text": [
      "2021-06-19 12:06:27,239 - ERROR    - Exception occurred while processing request: can't multiply sequence by non-int of type 'str'\n",
      "Traceback (most recent call last):\n",
      "  File \"/Users/woodpecker/.local/lib/python3.7/site-packages/dtale/views.py\", line 100, in _handle_exceptions\n",
      "    return func(*args, **kwargs)\n",
      "  File \"/Users/woodpecker/.local/lib/python3.7/site-packages/dtale/views.py\", line 1545, in reshape_data\n",
      "    instance = startup(data=builder.reshape(), ignore_duplicate=True)\n",
      "  File \"/Users/woodpecker/.local/lib/python3.7/site-packages/dtale/data_reshapers.py\", line 44, in reshape\n",
      "    return self.builder.reshape(data)\n",
      "  File \"/Users/woodpecker/.local/lib/python3.7/site-packages/dtale/data_reshapers.py\", line 109, in reshape\n",
      "    agg_data = agg_data.aggregate(cols)\n",
      "  File \"/Users/woodpecker/miniconda3/envs/py3/lib/python3.7/site-packages/pandas/core/groupby/generic.py\", line 945, in aggregate\n",
      "    result, how = aggregate(self, func, *args, **kwargs)\n",
      "  File \"/Users/woodpecker/miniconda3/envs/py3/lib/python3.7/site-packages/pandas/core/aggregation.py\", line 582, in aggregate\n",
      "    return agg_dict_like(obj, arg, _axis), True\n",
      "  File \"/Users/woodpecker/miniconda3/envs/py3/lib/python3.7/site-packages/pandas/core/aggregation.py\", line 768, in agg_dict_like\n",
      "    results = {key: obj._gotitem(key, ndim=1).agg(how) for key, how in arg.items()}\n",
      "  File \"/Users/woodpecker/miniconda3/envs/py3/lib/python3.7/site-packages/pandas/core/aggregation.py\", line 768, in <dictcomp>\n",
      "    results = {key: obj._gotitem(key, ndim=1).agg(how) for key, how in arg.items()}\n",
      "  File \"/Users/woodpecker/miniconda3/envs/py3/lib/python3.7/site-packages/pandas/core/groupby/generic.py\", line 247, in aggregate\n",
      "    ret = self._aggregate_multiple_funcs(func)\n",
      "  File \"/Users/woodpecker/miniconda3/envs/py3/lib/python3.7/site-packages/pandas/core/groupby/generic.py\", line 315, in _aggregate_multiple_funcs\n",
      "    results[base.OutputKey(label=name, position=idx)] = obj.aggregate(func)\n",
      "  File \"/Users/woodpecker/miniconda3/envs/py3/lib/python3.7/site-packages/pandas/core/groupby/generic.py\", line 241, in aggregate\n",
      "    return getattr(self, func)(*args, **kwargs)\n",
      "  File \"/Users/woodpecker/miniconda3/envs/py3/lib/python3.7/site-packages/pandas/core/groupby/groupby.py\", line 1663, in prod\n",
      "    numeric_only=numeric_only, min_count=min_count, alias=\"prod\", npfunc=np.prod\n",
      "  File \"/Users/woodpecker/miniconda3/envs/py3/lib/python3.7/site-packages/pandas/core/groupby/groupby.py\", line 1044, in _agg_general\n",
      "    result = self.aggregate(lambda x: npfunc(x, axis=self.axis))\n",
      "  File \"/Users/woodpecker/miniconda3/envs/py3/lib/python3.7/site-packages/pandas/core/groupby/generic.py\", line 259, in aggregate\n",
      "    return self._python_agg_general(func, *args, **kwargs)\n",
      "  File \"/Users/woodpecker/miniconda3/envs/py3/lib/python3.7/site-packages/pandas/core/groupby/groupby.py\", line 1196, in _python_agg_general\n",
      "    return self._python_apply_general(f, self._selected_obj)\n",
      "  File \"/Users/woodpecker/miniconda3/envs/py3/lib/python3.7/site-packages/pandas/core/groupby/groupby.py\", line 928, in _python_apply_general\n",
      "    keys, values, mutated = self.grouper.apply(f, data, self.axis)\n",
      "  File \"/Users/woodpecker/miniconda3/envs/py3/lib/python3.7/site-packages/pandas/core/groupby/ops.py\", line 238, in apply\n",
      "    res = f(group)\n",
      "  File \"/Users/woodpecker/miniconda3/envs/py3/lib/python3.7/site-packages/pandas/core/groupby/groupby.py\", line 1160, in <lambda>\n",
      "    f = lambda x: func(x, *args, **kwargs)\n",
      "  File \"/Users/woodpecker/miniconda3/envs/py3/lib/python3.7/site-packages/pandas/core/groupby/groupby.py\", line 1044, in <lambda>\n",
      "    result = self.aggregate(lambda x: npfunc(x, axis=self.axis))\n",
      "  File \"<__array_function__ internals>\", line 6, in prod\n",
      "  File \"/Users/woodpecker/miniconda3/envs/py3/lib/python3.7/site-packages/numpy/core/fromnumeric.py\", line 3000, in prod\n",
      "    keepdims=keepdims, initial=initial, where=where)\n",
      "  File \"/Users/woodpecker/miniconda3/envs/py3/lib/python3.7/site-packages/numpy/core/fromnumeric.py\", line 85, in _wrapreduction\n",
      "    return reduction(axis=axis, out=out, **passkwargs)\n",
      "  File \"/Users/woodpecker/miniconda3/envs/py3/lib/python3.7/site-packages/pandas/core/generic.py\", line 11099, in prod\n",
      "    self, axis, skipna, level, numeric_only, min_count, **kwargs\n",
      "  File \"/Users/woodpecker/miniconda3/envs/py3/lib/python3.7/site-packages/pandas/core/generic.py\", line 10812, in prod\n",
      "    **kwargs,\n",
      "  File \"/Users/woodpecker/miniconda3/envs/py3/lib/python3.7/site-packages/pandas/core/generic.py\", line 10779, in _min_count_stat_function\n",
      "    min_count=min_count,\n",
      "  File \"/Users/woodpecker/miniconda3/envs/py3/lib/python3.7/site-packages/pandas/core/series.py\", line 4182, in _reduce\n",
      "    return op(delegate, skipna=skipna, **kwds)\n",
      "  File \"/Users/woodpecker/miniconda3/envs/py3/lib/python3.7/site-packages/pandas/core/nanops.py\", line 71, in _f\n",
      "    return f(*args, **kwargs)\n",
      "  File \"/Users/woodpecker/miniconda3/envs/py3/lib/python3.7/site-packages/pandas/core/nanops.py\", line 1292, in nanprod\n",
      "    result = values.prod(axis)\n",
      "  File \"/Users/woodpecker/miniconda3/envs/py3/lib/python3.7/site-packages/numpy/core/_methods.py\", line 51, in _prod\n",
      "    return umr_prod(a, axis, dtype, out, keepdims, initial, where)\n",
      "TypeError: can't multiply sequence by non-int of type 'str'\n"
     ]
    },
    {
     "name": "stdout",
     "output_type": "stream",
     "text": [
      "Exception occurred while processing request: Dataset exceeds 15000 records, cannot render. Please apply filter...\n",
      "Traceback (most recent call last):\n",
      "  File \"/Users/woodpecker/.local/lib/python3.7/site-packages/dtale/views.py\", line 100, in _handle_exceptions\n",
      "    return func(*args, **kwargs)\n",
      "  File \"/Users/woodpecker/.local/lib/python3.7/site-packages/dtale/views.py\", line 2732, in get_correlations_ts\n",
      "    return_data, _code = build_base_chart(data.fillna(0), \"date\", \"corr\")\n",
      "  File \"/Users/woodpecker/.local/lib/python3.7/site-packages/dtale/charts/utils.py\", line 925, in build_base_chart\n",
      "    data_limit=data_limit,\n",
      "  File \"/Users/woodpecker/.local/lib/python3.7/site-packages/dtale/charts/utils.py\", line 401, in check_exceptions\n",
      "    raise ChartBuildingError(limit_msg.format(data_limit))\n",
      "dtale.utils.ChartBuildingError: Chart Error\n"
     ]
    },
    {
     "name": "stderr",
     "output_type": "stream",
     "text": [
      "2021-06-19 12:06:53,218 - ERROR    - Exception occurred while processing request: Dataset exceeds 15000 records, cannot render. Please apply filter...\n",
      "Traceback (most recent call last):\n",
      "  File \"/Users/woodpecker/.local/lib/python3.7/site-packages/dtale/views.py\", line 100, in _handle_exceptions\n",
      "    return func(*args, **kwargs)\n",
      "  File \"/Users/woodpecker/.local/lib/python3.7/site-packages/dtale/views.py\", line 2732, in get_correlations_ts\n",
      "    return_data, _code = build_base_chart(data.fillna(0), \"date\", \"corr\")\n",
      "  File \"/Users/woodpecker/.local/lib/python3.7/site-packages/dtale/charts/utils.py\", line 925, in build_base_chart\n",
      "    data_limit=data_limit,\n",
      "  File \"/Users/woodpecker/.local/lib/python3.7/site-packages/dtale/charts/utils.py\", line 401, in check_exceptions\n",
      "    raise ChartBuildingError(limit_msg.format(data_limit))\n",
      "dtale.utils.ChartBuildingError: Chart Error\n"
     ]
    },
    {
     "name": "stdout",
     "output_type": "stream",
     "text": [
      "Executing shutdown...\n"
     ]
    },
    {
     "name": "stderr",
     "output_type": "stream",
     "text": [
      "2021-06-19 12:08:50,165 - INFO     - Executing shutdown...\n",
      "/Users/woodpecker/.local/lib/python3.7/site-packages/dtale/app.py:397: UserWarning:\n",
      "\n",
      "The 'environ['werkzeug.server.shutdown']' function is deprecated and will be removed in Werkzeug 2.1.\n",
      "\n"
     ]
    }
   ],
   "source": [
    "d.open_browser()"
   ]
  },
  {
   "cell_type": "code",
   "execution_count": null,
   "metadata": {},
   "outputs": [],
   "source": []
  }
 ],
 "metadata": {
  "kernelspec": {
   "display_name": "Python 3",
   "language": "python",
   "name": "python3"
  },
  "language_info": {
   "codemirror_mode": {
    "name": "ipython",
    "version": 3
   },
   "file_extension": ".py",
   "mimetype": "text/x-python",
   "name": "python",
   "nbconvert_exporter": "python",
   "pygments_lexer": "ipython3",
   "version": "3.7.10"
  }
 },
 "nbformat": 4,
 "nbformat_minor": 4
}
