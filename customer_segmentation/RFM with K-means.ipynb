{
 "cells": [
  {
   "cell_type": "code",
   "execution_count": 1,
   "metadata": {},
   "outputs": [
    {
     "data": {
      "text/html": [
       "\n",
       "            <div>\n",
       "                <p><b>SparkSession - in-memory</b></p>\n",
       "                \n",
       "        <div>\n",
       "            <p><b>SparkContext</b></p>\n",
       "\n",
       "            <p><a href=\"http://192.168.0.15:4040\">Spark UI</a></p>\n",
       "\n",
       "            <dl>\n",
       "              <dt>Version</dt>\n",
       "                <dd><code>v2.4.7</code></dd>\n",
       "              <dt>Master</dt>\n",
       "                <dd><code>local[*]</code></dd>\n",
       "              <dt>AppName</dt>\n",
       "                <dd><code>PySpark</code></dd>\n",
       "            </dl>\n",
       "        </div>\n",
       "        \n",
       "            </div>\n",
       "        "
      ],
      "text/plain": [
       "<pyspark.sql.session.SparkSession at 0x7fe04616fa10>"
      ]
     },
     "execution_count": 1,
     "metadata": {},
     "output_type": "execute_result"
    }
   ],
   "source": [
    "import numpy as np\n",
    "import pandas as pd\n",
    "import matplotlib.pyplot as plt\n",
    "import seaborn as sns\n",
    "%matplotlib inline\n",
    "\n",
    "import pyspark\n",
    "from pyspark.sql import SparkSession\n",
    "\n",
    "spark = SparkSession.builder.appName(\"PySpark\").getOrCreate()\n",
    "spark"
   ]
  },
  {
   "cell_type": "code",
   "execution_count": 2,
   "metadata": {},
   "outputs": [],
   "source": [
    "from pyspark.sql import functions as F\n",
    "from pyspark.sql.types import *"
   ]
  },
  {
   "cell_type": "code",
   "execution_count": 3,
   "metadata": {},
   "outputs": [],
   "source": [
    "def printdf(df, l=5):\n",
    "    return df.limit(l).toPandas()\n",
    "\n",
    "def nullcount(df):\n",
    "    return {col: df.filter(df[col].isNull()).count() for col in df.columns}\n",
    "\n",
    "def shape(df):\n",
    "    print((df.count(), len(df.columns)))"
   ]
  },
  {
   "cell_type": "markdown",
   "metadata": {},
   "source": [
    "# Load data"
   ]
  },
  {
   "cell_type": "code",
   "execution_count": 4,
   "metadata": {},
   "outputs": [],
   "source": [
    "data = spark.read.csv(\"OnlineRetail.csv\", inferSchema=True, header=True)"
   ]
  },
  {
   "cell_type": "markdown",
   "metadata": {},
   "source": [
    "# Prepare data"
   ]
  },
  {
   "cell_type": "code",
   "execution_count": 5,
   "metadata": {},
   "outputs": [],
   "source": [
    "# Prepare customer data\n",
    "# Filters:\n",
    "#     Country = UK\n",
    "#     Quantity > 0\n",
    "\n",
    "rtl_data = (\n",
    "    data.filter(F.col(\"Country\") == \"United Kingdom\")\n",
    "    .filter(F.col(\"CustomerID\").isNotNull())\n",
    "    .filter(F.col(\"Quantity\") > 0)\n",
    "    .withColumn(\"TotalAmount\", F.col(\"Quantity\") * F.col(\"UnitPrice\"))\n",
    "    .withColumn(\"InvoiceDate\", F.to_date(F.col(\"InvoiceDate\"), 'MM/dd/yyyy'))\n",
    ")\n",
    "\n",
    "rtl_customer_data = (\n",
    "    rtl_data.groupBy([\"CustomerID\", \"InvoiceNo\", \"InvoiceDate\"])\n",
    "    .agg(F.sum(\"TotalAmount\").alias(\"TotalAmount\"),\n",
    "         F.sum(\"Quantity\").alias(\"Quantity\"),\n",
    "         F.sum(\"UnitPrice\").alias(\"UnitPrice\"))\n",
    ")\n",
    "\n",
    "# printdf(rtl_customer_data)\n",
    "# rtl_customer_data.toPandas().describe()"
   ]
  },
  {
   "cell_type": "code",
   "execution_count": 6,
   "metadata": {},
   "outputs": [],
   "source": [
    "# rtl_data.printSchema()"
   ]
  },
  {
   "cell_type": "markdown",
   "metadata": {},
   "source": [
    "# Compute RFM"
   ]
  },
  {
   "cell_type": "code",
   "execution_count": 7,
   "metadata": {},
   "outputs": [],
   "source": [
    "# Prepare Recency, Frequency, Monetary data\n",
    "\n",
    "latest_date = F.to_date(F.lit(\"2011/12/10\"), 'yyyy/MM/dd')\n",
    "\n",
    "# Create RFM Modelling scores for each customer\n",
    "rfm_scores = (\n",
    "    rtl_customer_data.groupBy(\"CustomerID\")\n",
    "                     .agg((F.datediff(latest_date, F.max(F.col(\"InvoiceDate\")))).alias(\"Recency\"),\n",
    "                           F.count(F.col(\"InvoiceNo\")).alias(\"Frequency\"),\n",
    "                           F.sum(F.col(\"TotalAmount\")).alias(\"Monetary\"))\n",
    ")\n",
    "\n",
    "# rfm_scores = rfm_scores.join(rtl_customer_data, \"CustomerID\", \"left\")\n",
    "\n",
    "# printdf(rfm_scores)"
   ]
  },
  {
   "cell_type": "code",
   "execution_count": 8,
   "metadata": {},
   "outputs": [],
   "source": [
    "# rfm_scores.toPandas().describe()"
   ]
  },
  {
   "cell_type": "markdown",
   "metadata": {},
   "source": [
    "# RFM Score Calculation"
   ]
  },
  {
   "cell_type": "code",
   "execution_count": 19,
   "metadata": {},
   "outputs": [
    {
     "data": {
      "text/plain": [
       "[[18.0, 51.0, 143.0],\n",
       " [1.0, 2.0, 5.0],\n",
       " [300.03999999999996, 651.8199999999999, 1575.8899999999999]]"
      ]
     },
     "execution_count": 19,
     "metadata": {},
     "output_type": "execute_result"
    }
   ],
   "source": [
    "# Identify the quantiles\n",
    "\n",
    "quantiles = rfm_scores.approxQuantile([\"Recency\", \"Frequency\", \"Monetary\"], [0.25, 0.5, 0.75], 0)\n",
    "quantiles"
   ]
  },
  {
   "cell_type": "code",
   "execution_count": 10,
   "metadata": {},
   "outputs": [],
   "source": [
    "# Calculate R,F,M vavlues considering quantiles\n",
    "\n",
    "rfm_scores = rfm_scores.withColumn(\"R\", \n",
    "                                   F.when(F.col(\"Recency\") < quantiles[0][0], F.lit(1))\n",
    "                                    .when(F.col(\"Recency\") < quantiles[0][1], F.lit(2))\n",
    "                                    .when(F.col(\"Recency\") < quantiles[0][2], F.lit(3))\n",
    "                                    .otherwise(F.lit(4)))\\\n",
    "                       .withColumn(\"F\",\n",
    "                                   F.when(F.col(\"Frequency\") < quantiles[1][0], F.lit(4))\n",
    "                                    .when(F.col(\"Frequency\") < quantiles[1][1], F.lit(3))\n",
    "                                    .when(F.col(\"Frequency\") < quantiles[1][2], F.lit(2))\n",
    "                                    .otherwise(F.lit(1)))\\\n",
    "                       .withColumn(\"M\",\n",
    "                                   F.when(F.col(\"Monetary\") < quantiles[2][0], F.lit(4))\n",
    "                                    .when(F.col(\"Monetary\") < quantiles[2][1], F.lit(3))\n",
    "                                    .when(F.col(\"Monetary\") < quantiles[2][2], F.lit(2))\n",
    "                                    .otherwise(F.lit(1)))\n",
    "\n",
    "# printdf(rfm_scores.filter(F.col(\"CustomerID\").isin([12346,12747,12748,12749,12820])))\n",
    "# rfm_scores.toPandas().describe()"
   ]
  },
  {
   "cell_type": "code",
   "execution_count": 12,
   "metadata": {},
   "outputs": [
    {
     "name": "stdout",
     "output_type": "stream",
     "text": [
      "(3921, 9)\n"
     ]
    }
   ],
   "source": [
    "# Aggregate RFM scores\n",
    "\n",
    "rfm_agg_scores = (\n",
    "    rfm_scores.groupBy(\"CustomerID\")\n",
    "    .agg((F.first(\"R\") + F.first(\"F\") + F.first(\"M\")).alias(\"RFMScore\"),\n",
    "         F.concat(\n",
    "            F.first(\"R\").cast(StringType()), \n",
    "            F.first(\"F\").cast(StringType()), \n",
    "            F.first(\"M\").cast(StringType())).alias(\"RFMScoreGroup\"))\n",
    "    .join(rfm_scores, \"CustomerID\", \"left\")\n",
    ")\n",
    "\n",
    "# printdf(rfm_agg_scores)\n",
    "# rfm_agg_scores.toPandas().describe()\n",
    "shape(rfm_agg_scores)"
   ]
  },
  {
   "cell_type": "markdown",
   "metadata": {},
   "source": [
    "# Inspect"
   ]
  },
  {
   "cell_type": "code",
   "execution_count": 17,
   "metadata": {},
   "outputs": [
    {
     "data": {
      "text/plain": [
       "<seaborn.axisgrid.FacetGrid at 0x7fe046311990>"
      ]
     },
     "execution_count": 17,
     "metadata": {},
     "output_type": "execute_result"
    },
    {
     "data": {
      "image/png": "[encoded data removed]",
      "text/plain": [
       "<Figure size 360x360 with 1 Axes>"
      ]
     },
     "metadata": {
      "needs_background": "light"
     },
     "output_type": "display_data"
    }
   ],
   "source": [
    "# RFM Score Distribution (lower the score is, valuable the customer is)\n",
    "\n",
    "sns.displot(rfm_agg_scores.toPandas()[\"RFMScore\"])"
   ]
  },
  {
   "cell_type": "code",
   "execution_count": 20,
   "metadata": {},
   "outputs": [
    {
     "data": {
      "text/plain": [
       "[5.0, 7.0, 9.0]"
      ]
     },
     "execution_count": 20,
     "metadata": {},
     "output_type": "execute_result"
    }
   ],
   "source": [
    "quantiles = rfm_agg_scores.approxQuantile(\"RFMScore\", [0.25, 0.5, 0.75], 0)\n",
    "quantiles"
   ]
  },
  {
   "cell_type": "code",
   "execution_count": 75,
   "metadata": {},
   "outputs": [
    {
     "name": "stdout",
     "output_type": "stream",
     "text": [
      "(3921, 10)\n"
     ]
    }
   ],
   "source": [
    "# Assign loyalty level to each customer\n",
    "\n",
    "loyalty_level = ['Platinum', 'Gold', 'Silver', 'Bronze']\n",
    "\n",
    "rfm_loyalty = rfm_agg_scores.withColumn(\"Loyalty\",\n",
    "                                        F.when((F.col(\"RFMScore\") <= quantiles[0]), F.lit(loyalty_level[0]))\n",
    "                                         .when((F.col(\"RFMScore\") <= quantiles[1]), F.lit(loyalty_level[1]))\n",
    "                                         .when((F.col(\"RFMScore\") <= quantiles[2]), F.lit(loyalty_level[2]))\n",
    "                                         .otherwise(F.lit(loyalty_level[3])))\n",
    "\n",
    "# printdf(rfm_loyalty.filter(F.col(\"CustomerID\").isin([12346,12747,12748,12749,12820])))\n",
    "# printdf(rfm_loyalty.filter(F.col(\"RFMScoreGroup\") == \"111\"), 10)\n",
    "shape(rfm_loyalty)"
   ]
  },
  {
   "cell_type": "code",
   "execution_count": 68,
   "metadata": {},
   "outputs": [],
   "source": [
    "# printdf(rfm_loyalty)"
   ]
  },
  {
   "cell_type": "code",
   "execution_count": 69,
   "metadata": {},
   "outputs": [
    {
     "data": {
      "text/html": [
       "<div>\n",
       "<style scoped>\n",
       "    .dataframe tbody tr th:only-of-type {\n",
       "        vertical-align: middle;\n",
       "    }\n",
       "\n",
       "    .dataframe tbody tr th {\n",
       "        vertical-align: top;\n",
       "    }\n",
       "\n",
       "    .dataframe thead th {\n",
       "        text-align: right;\n",
       "    }\n",
       "</style>\n",
       "<table border=\"1\" class=\"dataframe\">\n",
       "  <thead>\n",
       "    <tr style=\"text-align: right;\">\n",
       "      <th></th>\n",
       "      <th>CustomerID</th>\n",
       "      <th>RFMScore</th>\n",
       "      <th>Recency</th>\n",
       "      <th>Frequency</th>\n",
       "      <th>Monetary</th>\n",
       "      <th>R</th>\n",
       "      <th>F</th>\n",
       "      <th>M</th>\n",
       "    </tr>\n",
       "  </thead>\n",
       "  <tbody>\n",
       "    <tr>\n",
       "      <th>count</th>\n",
       "      <td>3921.000000</td>\n",
       "      <td>3921.000000</td>\n",
       "      <td>3921.000000</td>\n",
       "      <td>3921.000000</td>\n",
       "      <td>3921.000000</td>\n",
       "      <td>3921.000000</td>\n",
       "      <td>3921.000000</td>\n",
       "      <td>3921.000000</td>\n",
       "    </tr>\n",
       "    <tr>\n",
       "      <th>mean</th>\n",
       "      <td>15561.471563</td>\n",
       "      <td>7.106095</td>\n",
       "      <td>92.722265</td>\n",
       "      <td>4.246111</td>\n",
       "      <td>1863.910113</td>\n",
       "      <td>2.519000</td>\n",
       "      <td>2.087478</td>\n",
       "      <td>2.499617</td>\n",
       "    </tr>\n",
       "    <tr>\n",
       "      <th>std</th>\n",
       "      <td>1576.823683</td>\n",
       "      <td>2.532436</td>\n",
       "      <td>99.528532</td>\n",
       "      <td>7.205750</td>\n",
       "      <td>7481.922217</td>\n",
       "      <td>1.108505</td>\n",
       "      <td>0.770799</td>\n",
       "      <td>1.118291</td>\n",
       "    </tr>\n",
       "    <tr>\n",
       "      <th>min</th>\n",
       "      <td>12346.000000</td>\n",
       "      <td>3.000000</td>\n",
       "      <td>1.000000</td>\n",
       "      <td>1.000000</td>\n",
       "      <td>0.000000</td>\n",
       "      <td>1.000000</td>\n",
       "      <td>1.000000</td>\n",
       "      <td>1.000000</td>\n",
       "    </tr>\n",
       "    <tr>\n",
       "      <th>25%</th>\n",
       "      <td>14208.000000</td>\n",
       "      <td>5.000000</td>\n",
       "      <td>18.000000</td>\n",
       "      <td>1.000000</td>\n",
       "      <td>300.040000</td>\n",
       "      <td>2.000000</td>\n",
       "      <td>1.000000</td>\n",
       "      <td>1.000000</td>\n",
       "    </tr>\n",
       "    <tr>\n",
       "      <th>50%</th>\n",
       "      <td>15569.000000</td>\n",
       "      <td>7.000000</td>\n",
       "      <td>51.000000</td>\n",
       "      <td>2.000000</td>\n",
       "      <td>651.820000</td>\n",
       "      <td>3.000000</td>\n",
       "      <td>2.000000</td>\n",
       "      <td>2.000000</td>\n",
       "    </tr>\n",
       "    <tr>\n",
       "      <th>75%</th>\n",
       "      <td>16913.000000</td>\n",
       "      <td>9.000000</td>\n",
       "      <td>143.000000</td>\n",
       "      <td>5.000000</td>\n",
       "      <td>1575.890000</td>\n",
       "      <td>4.000000</td>\n",
       "      <td>3.000000</td>\n",
       "      <td>3.000000</td>\n",
       "    </tr>\n",
       "    <tr>\n",
       "      <th>max</th>\n",
       "      <td>18287.000000</td>\n",
       "      <td>11.000000</td>\n",
       "      <td>374.000000</td>\n",
       "      <td>210.000000</td>\n",
       "      <td>259657.300000</td>\n",
       "      <td>4.000000</td>\n",
       "      <td>3.000000</td>\n",
       "      <td>4.000000</td>\n",
       "    </tr>\n",
       "  </tbody>\n",
       "</table>\n",
       "</div>"
      ],
      "text/plain": [
       "         CustomerID     RFMScore      Recency    Frequency       Monetary  \\\n",
       "count   3921.000000  3921.000000  3921.000000  3921.000000    3921.000000   \n",
       "mean   15561.471563     7.106095    92.722265     4.246111    1863.910113   \n",
       "std     1576.823683     2.532436    99.528532     7.205750    7481.922217   \n",
       "min    12346.000000     3.000000     1.000000     1.000000       0.000000   \n",
       "25%    14208.000000     5.000000    18.000000     1.000000     300.040000   \n",
       "50%    15569.000000     7.000000    51.000000     2.000000     651.820000   \n",
       "75%    16913.000000     9.000000   143.000000     5.000000    1575.890000   \n",
       "max    18287.000000    11.000000   374.000000   210.000000  259657.300000   \n",
       "\n",
       "                 R            F            M  \n",
       "count  3921.000000  3921.000000  3921.000000  \n",
       "mean      2.519000     2.087478     2.499617  \n",
       "std       1.108505     0.770799     1.118291  \n",
       "min       1.000000     1.000000     1.000000  \n",
       "25%       2.000000     1.000000     1.000000  \n",
       "50%       3.000000     2.000000     2.000000  \n",
       "75%       4.000000     3.000000     3.000000  \n",
       "max       4.000000     3.000000     4.000000  "
      ]
     },
     "execution_count": 69,
     "metadata": {},
     "output_type": "execute_result"
    }
   ],
   "source": [
    "rfm_loyalty.toPandas().describe()"
   ]
  },
  {
   "cell_type": "code",
   "execution_count": 25,
   "metadata": {},
   "outputs": [],
   "source": [
    "# rfm_loyalty_df = rfm_loyalty.toPandas()"
   ]
  },
  {
   "cell_type": "code",
   "execution_count": 31,
   "metadata": {},
   "outputs": [],
   "source": [
    "# fig, ax = plt.subplots(1, 3, figsize=(11.7, 8.27))\n",
    "\n",
    "# sns.histplot(rfm_loyalty_df.query(\"Loyalty == 'Platinum' and Frequency < 50\")['Frequency'], kde=True, ax=ax[0])\n",
    "# sns.histplot(rfm_loyalty_df.query(\"Loyalty == 'Gold' and Frequency < 50\")['Frequency'], kde=True, ax=ax[1])\n",
    "# sns.histplot(rfm_loyalty_df.query(\"Loyalty == 'Silver' and Frequency < 50\")['Frequency'], kde=True, ax=ax[2])\n",
    "# fig.show()"
   ]
  },
  {
   "cell_type": "code",
   "execution_count": 70,
   "metadata": {},
   "outputs": [],
   "source": [
    "# Inspect RFM\n",
    "\n",
    "# fig, ax = plt.subplots(1, 1, figsize=(11.7, 8.27))\n",
    "# sns.displot(rfm_loyalty_df[\"Loyalty\"])\n",
    "\n",
    "# fig.show()"
   ]
  },
  {
   "cell_type": "markdown",
   "metadata": {},
   "source": [
    "<hr>"
   ]
  },
  {
   "cell_type": "markdown",
   "metadata": {},
   "source": [
    "# K-Means Clustering"
   ]
  },
  {
   "cell_type": "code",
   "execution_count": 76,
   "metadata": {},
   "outputs": [],
   "source": [
    "# Since log transformation doesn't work with negative and zero values, lets get rid of negative and zeros\n",
    "\n",
    "rfm_data = (\n",
    "    rfm_loyalty.withColumn(\"Monetary\", F.when(F.col(\"Monetary\") <= 0, 1).otherwise(F.col(\"Monetary\")))\n",
    "#                .withColumn(\"Recency\", F.when(F.col(\"Recency\") <= 0, 1).otherwise(F.col(\"Recency\")))\n",
    "#                .withColumn(\"Frequency\", F.when(F.col(\"Frequency\") <= 0, 1).otherwise(F.col(\"Frequency\")))\n",
    ")\n",
    "# printdf(rfm_loyalty)"
   ]
  },
  {
   "cell_type": "code",
   "execution_count": 77,
   "metadata": {},
   "outputs": [],
   "source": [
    "# Perform Log transformation to bring data into normal or near normal distribution\n",
    "\n",
    "rfm_data = (\n",
    "    rfm_data.withColumn(\"Recency_log\", F.log10(F.col(\"Recency\")))\n",
    "            .withColumn(\"Monetary_log\", F.log10(F.col(\"Monetary\")))\n",
    "            .withColumn(\"Frequency_log\", F.log10(F.col(\"Frequency\")))\n",
    ")\n",
    "# printdf(rfm_loyalty)"
   ]
  },
  {
   "cell_type": "code",
   "execution_count": 78,
   "metadata": {},
   "outputs": [
    {
     "data": {
      "image/png": "[encoded data removed]",
      "text/plain": [
       "<Figure size 842.4x595.44 with 3 Axes>"
      ]
     },
     "metadata": {
      "needs_background": "light"
     },
     "output_type": "display_data"
    }
   ],
   "source": [
    "rfm_data_df = rfm_data.toPandas()\n",
    "\n",
    "fig, ax = plt.subplots(1, 3, figsize=(11.7, 8.27))\n",
    "sns.histplot(rfm_data_df['Recency_log'], kde=True, ax=ax[0])\n",
    "sns.histplot(rfm_data_df['Monetary_log'], kde=True, ax=ax[1])\n",
    "sns.histplot(rfm_data_df['Frequency_log'], kde=True, ax=ax[2])\n",
    "plt.show()"
   ]
  },
  {
   "cell_type": "code",
   "execution_count": null,
   "metadata": {},
   "outputs": [],
   "source": []
  }
 ],
 "metadata": {
  "kernelspec": {
   "display_name": "Python 3",
   "language": "python",
   "name": "python3"
  },
  "language_info": {
   "codemirror_mode": {
    "name": "ipython",
    "version": 3
   },
   "file_extension": ".py",
   "mimetype": "text/x-python",
   "name": "python",
   "nbconvert_exporter": "python",
   "pygments_lexer": "ipython3",
   "version": "3.7.10"
  }
 },
 "nbformat": 4,
 "nbformat_minor": 4
}
